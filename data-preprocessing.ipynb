{
 "cells": [
  {
   "cell_type": "code",
   "execution_count": 3,
   "metadata": {},
   "outputs": [],
   "source": [
    "import glob\n",
    "import numpy as np\n",
    "from tensorflow.keras.utils import to_categorical\n",
    "from music21 import converter, instrument, note, chord"
   ]
  },
  {
   "cell_type": "code",
   "execution_count": 4,
   "metadata": {},
   "outputs": [
    {
     "name": "stdout",
     "output_type": "stream",
     "text": [
      "Finished parsing the following MIDI file: data/Holy-Jazz-Piano.mid\n",
      "Finished parsing the following MIDI file: data/Come Rain or Come Shine V1.mid\n",
      "Finished parsing the following MIDI file: data/Cast Your Fate.mid\n",
      "Finished parsing the following MIDI file: data/Chelsea Bridge.mid\n",
      "Finished parsing the following MIDI file: data/Ballad-Of-The-Jazz-Cafe.mid\n",
      "Finished parsing the following MIDI file: data/Don't-Jazz-Me.mid\n",
      "Finished parsing the following MIDI file: data/comesun.mid\n",
      "Finished parsing the following MIDI file: data/AliceInWonderland.mid\n",
      "Finished parsing the following MIDI file: data/The-Jazz-Master.mid\n",
      "Finished parsing the following MIDI file: data/Lupin III - Lupin III Theme [Jazz].mid\n",
      "Finished parsing the following MIDI file: data/Bess You Is.mid\n",
      "Finished parsing the following MIDI file: data/Cameron_Lee_Simpson_-_Watermelon_Rag.mid\n",
      "Finished parsing the following MIDI file: data/Blue room midi file.mid\n",
      "Finished parsing the following MIDI file: data/Cameron_Lee_Simpson_-_The_Toys_R_Rag.mid\n",
      "Finished parsing the following MIDI file: data/Cameron_Lee_Simpson_-_Screwball_Rag.mid\n",
      "Finished parsing the following MIDI file: data/Cameron_Lee_Simpson_-_V_Man.mid\n",
      "Finished parsing the following MIDI file: data/Sakamichi no Apollon - Jazz for Button.mid\n",
      "Finished parsing the following MIDI file: data/Aghostofachance.mid\n",
      "Finished parsing the following MIDI file: data/Answer me My Love.mid\n",
      "Finished parsing the following MIDI file: data/Cameron_Lee_Simpson_-_Wall_Knocker_Shuffle.mid\n",
      "Finished parsing the following MIDI file: data/Cameron_Lee_Simpson_-_Red_Market_Rag.mid\n",
      "Finished parsing the following MIDI file: data/Cameron_Lee_Simpson_-_Imperfection_Rag.mid\n",
      "Finished parsing the following MIDI file: data/But Beautifulsolo.mid\n",
      "Finished parsing the following MIDI file: data/AHouseis.mid\n",
      "Finished parsing the following MIDI file: data/Jacob_Allen_-_Test.mid\n",
      "Finished parsing the following MIDI file: data/Chopin WaltzAb.mid\n",
      "Finished parsing the following MIDI file: data/A Sleepin' Bee.mid\n",
      "Finished parsing the following MIDI file: data/Begin The Beguine.mid\n",
      "Finished parsing the following MIDI file: data/ARemark.mid\n",
      "Finished parsing the following MIDI file: data/Come Rain or Come Shine duo.mid\n",
      "Finished parsing the following MIDI file: data/afine-2.mid\n",
      "Finished parsing the following MIDI file: data/Autumn In NY.mid\n",
      "Finished parsing the following MIDI file: data/Animal Crossing - KK Jazz Aircheck.mid\n",
      "Finished parsing the following MIDI file: data/Cameron_Lee_Simpson_-_.mid\n",
      "Finished parsing the following MIDI file: data/Cry me a river.mid\n",
      "Finished parsing the following MIDI file: data/By The Time.mid\n"
     ]
    }
   ],
   "source": [
    "notes = []\n",
    "for file in glob.glob(\"data/*.mid\"):\n",
    "    midi = converter.parse(file)\n",
    "    notes_to_parse = None\n",
    "    parts = instrument.partitionByInstrument(midi)\n",
    "    if parts:  # File has instrument parts\n",
    "        notes_to_parse = parts.parts[0].recurse()\n",
    "    else:  # File has notes in a flat structure\n",
    "        notes_to_parse = midi.flat.notes\n",
    "    for element in notes_to_parse:\n",
    "        if isinstance(element, note.Note):\n",
    "            notes.append(str(element.pitch))\n",
    "        elif isinstance(element, chord.Chord):\n",
    "            notes.append('.'.join(str(n) for n in element.normalOrder))\n",
    "    \n",
    "    print(\"Finished parsing the following MIDI file:\", file)"
   ]
  },
  {
   "cell_type": "code",
   "execution_count": 5,
   "metadata": {},
   "outputs": [],
   "source": [
    "np_notes = np.array(notes)\n",
    "np.save(\"cached_data/notes.npy\", np_notes)"
   ]
  },
  {
   "cell_type": "code",
   "execution_count": 6,
   "metadata": {},
   "outputs": [
    {
     "name": "stdout",
     "output_type": "stream",
     "text": [
      "['C4' 'F4' '5.9.0' 'C2' 'C3' '5.9' 'C4' 'F4' 'D4' 'B-4' 'C3' 'F4' 'C5'\n",
      " 'G#4' 'A4' '10.2.5' 'F4' 'A4' 'B3' 'C4' 'C3' 'F4' 'B-3' 'G4' 'F4' '4.5'\n",
      " 'F#2' 'F3' 'G2' 'B-3' 'B3' 'F4' 'G1' 'F3' 'B-2' 'B-1' '11' '10.2.5' 'C2'\n",
      " 'C3' '10.2' '2.5' 'F3' 'C3' 'C2' 'F4' 'G4' 'C5' 'G#4' 'C2' 'C3' 'A4'\n",
      " '10.0.2' 'G#4' 'C5' 'B4' 'A4' 'F4' 'C4' 'C3' 'F4' 'B-3' 'B3' 'C3' '2.5'\n",
      " 'B-3' 'C3' 'F3' 'F2' 'F#2' 'F3' 'G2' 'B-3' 'G1' 'B3' 'F4' 'F3' '10' '11'\n",
      " 'F3' 'D4' 'B-3' 'C2' 'C3' 'F4' 'C3' '11.0.5' '5' '5' 'C5' 'C#5' 'D5' '5'\n",
      " 'F4' '5.7' '9.2' '8' '1.4.8' '7.0' 'E-5']\n"
     ]
    }
   ],
   "source": [
    "print(np_notes[0:100])"
   ]
  },
  {
   "cell_type": "code",
   "execution_count": 7,
   "metadata": {},
   "outputs": [],
   "source": [
    "sequence_length = 100\n",
    "n_vocab = len(set(notes))\n",
    "\n",
    "# Get all pitch names\n",
    "pitch_names = sorted(set(item for item in notes))\n",
    "\n",
    "# Create a dictionary to map pitches to integers\n",
    "note_to_int = dict((note, number) for number, note in enumerate(pitch_names))\n",
    "network_input = []\n",
    "network_output = []\n",
    "\n",
    "# Create input sequences and the corresponding outputs\n",
    "for i in range(0, len(notes) - sequence_length, 1):\n",
    "    sequence_in = notes[i:i + sequence_length]\n",
    "    sequence_out = notes[i + sequence_length]\n",
    "    network_input.append([note_to_int[char] for char in sequence_in])\n",
    "    network_output.append(note_to_int[sequence_out])\n",
    "    \n",
    "n_patterns = len(network_input)\n",
    "\n",
    "# Reshape the input into a format compatible with LSTM layers\n",
    "network_input = np.reshape(network_input, (n_patterns, sequence_length, 1))\n",
    "\n",
    "# Normalize input\n",
    "network_input = network_input / float(n_vocab)\n",
    "network_output = to_categorical(network_output)"
   ]
  },
  {
   "cell_type": "code",
   "execution_count": 8,
   "metadata": {},
   "outputs": [],
   "source": [
    "np_network_input = np.array(network_input)\n",
    "np.save(\"cached_data/network_input.npy\", np_network_input)\n",
    "np_network_output = np.array(network_output)\n",
    "np.save(\"cached_data/network_output.npy\", np_network_output)"
   ]
  },
  {
   "cell_type": "code",
   "execution_count": 9,
   "metadata": {},
   "outputs": [
    {
     "name": "stdout",
     "output_type": "stream",
     "text": [
      "[[[0.90391459]\n",
      "  [0.96797153]\n",
      "  [0.56761566]\n",
      "  ...\n",
      "  [0.12811388]\n",
      "  [0.63701068]\n",
      "  [0.93238434]]\n",
      "\n",
      " [[0.96797153]\n",
      "  [0.56761566]\n",
      "  [0.90035587]\n",
      "  ...\n",
      "  [0.63701068]\n",
      "  [0.93238434]\n",
      "  [0.84697509]]\n",
      "\n",
      " [[0.56761566]\n",
      "  [0.90035587]\n",
      "  [0.90213523]\n",
      "  ...\n",
      "  [0.93238434]\n",
      "  [0.84697509]\n",
      "  [0.84875445]]\n",
      "\n",
      " ...\n",
      "\n",
      " [[0.9911032 ]\n",
      "  [0.98932384]\n",
      "  [0.8772242 ]\n",
      "  ...\n",
      "  [0.84163701]\n",
      "  [0.98932384]\n",
      "  [0.65480427]]\n",
      "\n",
      " [[0.98932384]\n",
      "  [0.8772242 ]\n",
      "  [0.90035587]\n",
      "  ...\n",
      "  [0.98932384]\n",
      "  [0.65480427]\n",
      "  [0.79537367]]\n",
      "\n",
      " [[0.8772242 ]\n",
      "  [0.90035587]\n",
      "  [0.94128114]\n",
      "  ...\n",
      "  [0.65480427]\n",
      "  [0.79537367]\n",
      "  [0.84697509]]]\n"
     ]
    }
   ],
   "source": [
    "print(np_network_input)"
   ]
  },
  {
   "cell_type": "code",
   "execution_count": 10,
   "metadata": {},
   "outputs": [
    {
     "name": "stdout",
     "output_type": "stream",
     "text": [
      "[[0. 0. 0. ... 0. 0. 0.]\n",
      " [0. 0. 0. ... 0. 0. 0.]\n",
      " [0. 0. 0. ... 0. 0. 0.]\n",
      " ...\n",
      " [0. 0. 0. ... 0. 0. 0.]\n",
      " [0. 0. 0. ... 0. 0. 0.]\n",
      " [0. 0. 0. ... 0. 0. 0.]]\n"
     ]
    }
   ],
   "source": [
    "print(np_network_output)"
   ]
  },
  {
   "cell_type": "code",
   "execution_count": null,
   "metadata": {},
   "outputs": [],
   "source": []
  }
 ],
 "metadata": {
  "kernelspec": {
   "display_name": "jazz-nn-3.6",
   "language": "python",
   "name": "jazz-nn-3.6"
  },
  "language_info": {
   "codemirror_mode": {
    "name": "ipython",
    "version": 3
   },
   "file_extension": ".py",
   "mimetype": "text/x-python",
   "name": "python",
   "nbconvert_exporter": "python",
   "pygments_lexer": "ipython3",
   "version": "3.6.9"
  }
 },
 "nbformat": 4,
 "nbformat_minor": 2
}
